{
  "nbformat": 4,
  "nbformat_minor": 0,
  "metadata": {
    "colab": {
      "provenance": []
    },
    "kernelspec": {
      "name": "python3",
      "display_name": "Python 3"
    },
    "language_info": {
      "name": "python"
    }
  },
  "cells": [
    {
      "cell_type": "code",
      "source": [
        "import pandas as pd\n",
        "from sklearn.model_selection import train_test_split\n",
        "from sklearn.preprocessing import StandardScaler\n",
        "from sklearn.neighbors import KNeighborsClassifier\n",
        "from sklearn.metrics import accuracy_score,confusion_matrix\n",
        "#step 2:Load Data from Excel\n",
        "file_path=('/content/pass.xlsx')\n",
        "data=pd.read_excel(file_path)\n",
        "#step 3:Preprocess Data\n",
        "#Assuming the feature are in coloums 0-4 and target label in coloumn 5\n",
        "X =data.iloc[:,:-1].values\n",
        "y=data.iloc[:,-1].values\n",
        "X_train,X_test,y_train,y_test=train_test_split(X,y,test_size=0.3,random_state=42)\n",
        "scaler=StandardScaler()\n",
        "X_train=scaler.fit_transform(X_train)\n",
        "X_test=scaler.transform(X_test)\n",
        "k=5\n",
        "classifier=KNeighborsClassifier(n_neighbors=k)\n",
        "classifier.fit(X_train,y_train)\n",
        "y_pred=classifier.predict(X_test)\n",
        "accuracy=accuracy_score(y_test,y_pred)\n",
        "print(f\"Accuracy:{accuracy*100:.2f}%\")\n",
        "print(\"Confusion Matrix:\")\n",
        "print(confusion_matrix(y_test,y_pred))"
      ],
      "metadata": {
        "colab": {
          "base_uri": "https://localhost:8080/"
        },
        "id": "Lgk8zGnTk4aG",
        "outputId": "96a9c764-cee2-442e-b4de-5aa42bb5bb85"
      },
      "execution_count": null,
      "outputs": [
        {
          "output_type": "stream",
          "name": "stdout",
          "text": [
            "Accuracy:100.00%\n",
            "Confusion Matrix:\n",
            "[[2 0]\n",
            " [0 1]]\n"
          ]
        }
      ]
    },
    {
      "cell_type": "code",
      "source": [
        "import pandas as pd\n",
        "df=pd.read_csv('/content/diabetes_data_upload (2).csv')\n",
        "df.head()\n",
        "df['Gender']=df['Gender'].map({'Male':1,'Female':0})\n",
        "df['class']=df['class'].map({'Positive':1,'Negative':0})\n",
        "df=pd.get_dummies(df,drop_first=True)\n",
        "X=df.drop(columns='class')\n",
        "y=df['class']\n",
        "from sklearn.model_selection import train_test_split\n",
        "X_train,X_test,y_train,y_test=train_test_split(X,y,test_size=0.2,random_state=42)\n",
        "from sklearn.linear_model import LogisticRegression\n",
        "from sklearn.metrics import accuracy_score\n",
        "log_reg=LogisticRegression(max_iter=1000)\n",
        "log_reg.fit(X_train,y_train)\n",
        "y_pred=log_reg.predict(X_test)\n",
        "accuracy=accuracy_score(y_test,y_pred)\n",
        "print(f\"Accuracy:{accuracy*100:.2f}%\")\n",
        "from sklearn.metrics import confusion_matrix,classification_report\n",
        "confusion=confusion_matrix(y_test,y_pred)\n",
        "print(\"Confusion Matrix:\")\n",
        "print(confusion)\n",
        "report = classification_report(y_test, y_pred)\n",
        "print(\"Classification Report:\")\n",
        "print(report)"
      ],
      "metadata": {
        "colab": {
          "base_uri": "https://localhost:8080/"
        },
        "id": "FfBf8LbEk7w0",
        "outputId": "a246b5b1-dc86-4f39-b4b4-eb1d6c5d14bf"
      },
      "execution_count": null,
      "outputs": [
        {
          "output_type": "stream",
          "name": "stdout",
          "text": [
            "Accuracy:92.31%\n",
            "Confusion Matrix:\n",
            "[[28  5]\n",
            " [ 3 68]]\n",
            "Classification Report:\n",
            "              precision    recall  f1-score   support\n",
            "\n",
            "           0       0.90      0.85      0.88        33\n",
            "           1       0.93      0.96      0.94        71\n",
            "\n",
            "    accuracy                           0.92       104\n",
            "   macro avg       0.92      0.90      0.91       104\n",
            "weighted avg       0.92      0.92      0.92       104\n",
            "\n"
          ]
        }
      ]
    }
  ]
}